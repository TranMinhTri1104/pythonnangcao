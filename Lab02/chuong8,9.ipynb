{
  "nbformat": 4,
  "nbformat_minor": 0,
  "metadata": {
    "colab": {
      "name": "Lab02ipynb",
      "provenance": [],
      "collapsed_sections": [],
      "authorship_tag": "ABX9TyONVAuWO9EyqvYBPhWSDUYT",
      "include_colab_link": true
    },
    "kernelspec": {
      "name": "python3",
      "display_name": "Python 3"
    },
    "language_info": {
      "name": "python"
    }
  },
  "cells": [
    {
      "cell_type": "markdown",
      "metadata": {
        "id": "view-in-github",
        "colab_type": "text"
      },
      "source": [
        "<a href=\"https://colab.research.google.com/github/TranMinhTri1104/pythonnangcao/blob/main/Lab02/chuong8%2C9.ipynb\" target=\"_parent\"><img src=\"https://colab.research.google.com/assets/colab-badge.svg\" alt=\"Open In Colab\"/></a>"
      ]
    },
    {
      "cell_type": "code",
      "metadata": {
        "colab": {
          "base_uri": "https://localhost:8080/",
          "height": 35
        },
        "id": "g9IWBynAug0q",
        "outputId": "f6592bc0-7ad9-477d-8267-644398f8566c"
      },
      "source": [
        "kingdoms = ['Bacteria', 'Protozoa', 'Chromista','Plantae', 'Fungi','Animalia']\n",
        "kingdoms[0]\n"
      ],
      "execution_count": 13,
      "outputs": [
        {
          "output_type": "execute_result",
          "data": {
            "application/vnd.google.colaboratory.intrinsic+json": {
              "type": "string"
            },
            "text/plain": [
              "'Bacteria'"
            ]
          },
          "metadata": {},
          "execution_count": 13
        }
      ]
    },
    {
      "cell_type": "code",
      "metadata": {
        "colab": {
          "base_uri": "https://localhost:8080/",
          "height": 35
        },
        "id": "jOeneMQyxv3x",
        "outputId": "4f7f69e1-c7e2-48fe-e6f2-1ce755d727d7"
      },
      "source": [
        "kingdoms[5]"
      ],
      "execution_count": 8,
      "outputs": [
        {
          "output_type": "execute_result",
          "data": {
            "application/vnd.google.colaboratory.intrinsic+json": {
              "type": "string"
            },
            "text/plain": [
              "'Animalia'"
            ]
          },
          "metadata": {},
          "execution_count": 8
        }
      ]
    },
    {
      "cell_type": "code",
      "metadata": {
        "colab": {
          "base_uri": "https://localhost:8080/"
        },
        "id": "AKG-2xVex_PF",
        "outputId": "d7711ecb-9dca-46a5-8092-f89b47aea359"
      },
      "source": [
        "kingdoms[:3]"
      ],
      "execution_count": 9,
      "outputs": [
        {
          "output_type": "execute_result",
          "data": {
            "text/plain": [
              "['Bacteria', 'Protozoa', 'Chromista']"
            ]
          },
          "metadata": {},
          "execution_count": 9
        }
      ]
    },
    {
      "cell_type": "code",
      "metadata": {
        "colab": {
          "base_uri": "https://localhost:8080/"
        },
        "id": "zvV5ZM0TyCp-",
        "outputId": "20f4db3d-934d-473b-dacf-bf0163cb4a63"
      },
      "source": [
        "kingdoms[2:5]"
      ],
      "execution_count": 10,
      "outputs": [
        {
          "output_type": "execute_result",
          "data": {
            "text/plain": [
              "['Chromista', 'Plantae', 'Fungi']"
            ]
          },
          "metadata": {},
          "execution_count": 10
        }
      ]
    },
    {
      "cell_type": "code",
      "metadata": {
        "colab": {
          "base_uri": "https://localhost:8080/"
        },
        "id": "9-FBXvsZyF_k",
        "outputId": "0dd0abd7-2d2e-4296-c921-e29795e3998b"
      },
      "source": [
        "kingdoms[4:]"
      ],
      "execution_count": 12,
      "outputs": [
        {
          "output_type": "execute_result",
          "data": {
            "text/plain": [
              "['Fungi', 'Animalia']"
            ]
          },
          "metadata": {},
          "execution_count": 12
        }
      ]
    },
    {
      "cell_type": "code",
      "metadata": {
        "colab": {
          "base_uri": "https://localhost:8080/"
        },
        "id": "Cjd5q8JhyLnz",
        "outputId": "7ce4d8a0-e52a-456f-d426-24f1080a6535"
      },
      "source": [
        "kingdoms[1:0]\n"
      ],
      "execution_count": 14,
      "outputs": [
        {
          "output_type": "execute_result",
          "data": {
            "text/plain": [
              "[]"
            ]
          },
          "metadata": {},
          "execution_count": 14
        }
      ]
    },
    {
      "cell_type": "code",
      "metadata": {
        "colab": {
          "base_uri": "https://localhost:8080/",
          "height": 35
        },
        "id": "Mi6SJ3zxySnH",
        "outputId": "e9da209a-08ea-4e4e-837f-80bae143ed0d"
      },
      "source": [
        "kingdoms[-6]\n",
        "\n"
      ],
      "execution_count": 16,
      "outputs": [
        {
          "output_type": "execute_result",
          "data": {
            "application/vnd.google.colaboratory.intrinsic+json": {
              "type": "string"
            },
            "text/plain": [
              "'Bacteria'"
            ]
          },
          "metadata": {},
          "execution_count": 16
        }
      ]
    },
    {
      "cell_type": "code",
      "metadata": {
        "colab": {
          "base_uri": "https://localhost:8080/",
          "height": 35
        },
        "id": "Nf_ThAfzydCj",
        "outputId": "25c44a7c-7c70-46d4-ac30-f90acfa5abc2"
      },
      "source": [
        "kingdoms[-1]"
      ],
      "execution_count": 18,
      "outputs": [
        {
          "output_type": "execute_result",
          "data": {
            "application/vnd.google.colaboratory.intrinsic+json": {
              "type": "string"
            },
            "text/plain": [
              "'Animalia'"
            ]
          },
          "metadata": {},
          "execution_count": 18
        }
      ]
    },
    {
      "cell_type": "code",
      "metadata": {
        "colab": {
          "base_uri": "https://localhost:8080/"
        },
        "id": "NI62syHhyhYx",
        "outputId": "48faff5c-0508-4f94-995a-9c810d2a8e83"
      },
      "source": [
        "kingdoms[-6:-3]"
      ],
      "execution_count": 20,
      "outputs": [
        {
          "output_type": "execute_result",
          "data": {
            "text/plain": [
              "['Bacteria', 'Protozoa', 'Chromista']"
            ]
          },
          "metadata": {},
          "execution_count": 20
        }
      ]
    },
    {
      "cell_type": "code",
      "metadata": {
        "colab": {
          "base_uri": "https://localhost:8080/"
        },
        "id": "ROBq21R_ynn3",
        "outputId": "37ef8d87-3152-4cba-e365-e191b132fa16"
      },
      "source": [
        "kingdoms[-4:-1]\n"
      ],
      "execution_count": 22,
      "outputs": [
        {
          "output_type": "execute_result",
          "data": {
            "text/plain": [
              "['Chromista', 'Plantae', 'Fungi']"
            ]
          },
          "metadata": {},
          "execution_count": 22
        }
      ]
    },
    {
      "cell_type": "code",
      "metadata": {
        "colab": {
          "base_uri": "https://localhost:8080/"
        },
        "id": "8hRmXOXIysH_",
        "outputId": "ec157a43-d0cb-462b-aba7-dae107db7d49"
      },
      "source": [
        "\n",
        "kingdoms[-2:]\n"
      ],
      "execution_count": 28,
      "outputs": [
        {
          "output_type": "execute_result",
          "data": {
            "text/plain": [
              "['Fungi', 'Animalia']"
            ]
          },
          "metadata": {},
          "execution_count": 28
        }
      ]
    },
    {
      "cell_type": "code",
      "metadata": {
        "colab": {
          "base_uri": "https://localhost:8080/"
        },
        "id": "_N7q_Spzyw0l",
        "outputId": "7b3a55ac-81be-471e-cfb8-13be4699f46e"
      },
      "source": [
        "\n",
        "kingdoms[-1:-2]\n"
      ],
      "execution_count": 34,
      "outputs": [
        {
          "output_type": "execute_result",
          "data": {
            "text/plain": [
              "[]"
            ]
          },
          "metadata": {},
          "execution_count": 34
        }
      ]
    },
    {
      "cell_type": "code",
      "metadata": {
        "colab": {
          "base_uri": "https://localhost:8080/"
        },
        "id": "delP6Np6y0vw",
        "outputId": "c6c29371-154d-4dd0-dbb8-c83183e9bea8"
      },
      "source": [
        "appointments =['9:00','10:30','14:00','15:00','15:30']\n",
        "appointments.append('16:30')\n",
        "appointments"
      ],
      "execution_count": 31,
      "outputs": [
        {
          "output_type": "execute_result",
          "data": {
            "text/plain": [
              "['9:00', '10:30', '14:00', '15:00', '15:30', '16:30']"
            ]
          },
          "metadata": {},
          "execution_count": 31
        }
      ]
    },
    {
      "cell_type": "code",
      "metadata": {
        "colab": {
          "base_uri": "https://localhost:8080/"
        },
        "id": "MKUydrHh0AeV",
        "outputId": "6f96409f-4a70-4afe-fb98-49584693f8e9"
      },
      "source": [
        "appointments += ['16:30']\n",
        "appointments"
      ],
      "execution_count": 38,
      "outputs": [
        {
          "output_type": "execute_result",
          "data": {
            "text/plain": [
              "['9:00',\n",
              " '10:30',\n",
              " '14:00',\n",
              " '15:00',\n",
              " '15:30',\n",
              " '16:30',\n",
              " '16:30',\n",
              " '16:30',\n",
              " '1',\n",
              " '6',\n",
              " ':',\n",
              " '3',\n",
              " '0',\n",
              " '1',\n",
              " '6',\n",
              " ':',\n",
              " '3',\n",
              " '0',\n",
              " '16:30']"
            ]
          },
          "metadata": {},
          "execution_count": 38
        }
      ]
    },
    {
      "cell_type": "markdown",
      "metadata": {
        "id": "My88t0B61l3g"
      },
      "source": [
        "The approach in a modifies the list. The one in b creates a new list\n"
      ]
    },
    {
      "cell_type": "code",
      "metadata": {
        "colab": {
          "base_uri": "https://localhost:8080/"
        },
        "id": "YiJbrIot1uDH",
        "outputId": "169f395f-d7db-4add-d9a4-53806f722443"
      },
      "source": [
        "ids= [4353, 2314, 2956, 3382, 9362, 3900]\n",
        "ids.remove(3382)\n",
        "ids"
      ],
      "execution_count": 43,
      "outputs": [
        {
          "output_type": "execute_result",
          "data": {
            "text/plain": [
              "[4353, 2314, 2956, 9362, 3900]"
            ]
          },
          "metadata": {},
          "execution_count": 43
        }
      ]
    },
    {
      "cell_type": "code",
      "metadata": {
        "colab": {
          "base_uri": "https://localhost:8080/"
        },
        "id": "SPw-g4AD2DJ0",
        "outputId": "16080a17-da63-4431-8923-9db253bdddf1"
      },
      "source": [
        "ids.index(9362)\n",
        "ids"
      ],
      "execution_count": 45,
      "outputs": [
        {
          "output_type": "execute_result",
          "data": {
            "text/plain": [
              "[4353, 2314, 2956, 9362, 3900]"
            ]
          },
          "metadata": {},
          "execution_count": 45
        }
      ]
    },
    {
      "cell_type": "code",
      "metadata": {
        "colab": {
          "base_uri": "https://localhost:8080/"
        },
        "id": "J5V4uBP42J2_",
        "outputId": "f122c21d-4a91-406c-fe3a-fa29b668d8ee"
      },
      "source": [
        "ids.insert(ids.index(9362)+1,4499)\n",
        "ids"
      ],
      "execution_count": 47,
      "outputs": [
        {
          "output_type": "execute_result",
          "data": {
            "text/plain": [
              "[4353, 2314, 2956, 9362, 4499, 4499, 3900]"
            ]
          },
          "metadata": {},
          "execution_count": 47
        }
      ]
    },
    {
      "cell_type": "code",
      "metadata": {
        "colab": {
          "base_uri": "https://localhost:8080/"
        },
        "id": "8iCSMqSL2RmF",
        "outputId": "821bcad7-e120-481e-bb7e-15d12700c34d"
      },
      "source": [
        "ids = ids + [5566,1830] \n",
        "ids"
      ],
      "execution_count": 50,
      "outputs": [
        {
          "output_type": "execute_result",
          "data": {
            "text/plain": [
              "[4353, 2314, 2956, 9362, 4499, 4499, 3900, 5566, 1830, 5566, 1830]"
            ]
          },
          "metadata": {},
          "execution_count": 50
        }
      ]
    },
    {
      "cell_type": "markdown",
      "metadata": {
        "id": "lNatHzQj4Oix"
      },
      "source": [
        "Câu 5"
      ]
    },
    {
      "cell_type": "code",
      "metadata": {
        "id": "bUtGmVx52m5D"
      },
      "source": [
        "alkaline_earth_metals = [4,12,20,38,56,88]\n"
      ],
      "execution_count": 51,
      "outputs": []
    },
    {
      "cell_type": "code",
      "metadata": {
        "colab": {
          "base_uri": "https://localhost:8080/"
        },
        "id": "lUq7YGm931at",
        "outputId": "08016313-814b-483e-8105-e2c846189e1e"
      },
      "source": [
        "alkaline_earth_metals [5]"
      ],
      "execution_count": 53,
      "outputs": [
        {
          "output_type": "execute_result",
          "data": {
            "text/plain": [
              "88"
            ]
          },
          "metadata": {},
          "execution_count": 53
        }
      ]
    },
    {
      "cell_type": "code",
      "metadata": {
        "colab": {
          "base_uri": "https://localhost:8080/"
        },
        "id": "l1NqNW-c360v",
        "outputId": "a957798c-15a6-4230-d581-131ac3033be3"
      },
      "source": [
        "alkaline_earth_metals [-1]"
      ],
      "execution_count": 55,
      "outputs": [
        {
          "output_type": "execute_result",
          "data": {
            "text/plain": [
              "88"
            ]
          },
          "metadata": {},
          "execution_count": 55
        }
      ]
    },
    {
      "cell_type": "code",
      "metadata": {
        "colab": {
          "base_uri": "https://localhost:8080/"
        },
        "id": "GszSbBJ44BtK",
        "outputId": "98d90b8c-8e5e-4b71-82b2-eafe0f0aa740"
      },
      "source": [
        "len(alkaline_earth_metals)"
      ],
      "execution_count": 57,
      "outputs": [
        {
          "output_type": "execute_result",
          "data": {
            "text/plain": [
              "6"
            ]
          },
          "metadata": {},
          "execution_count": 57
        }
      ]
    },
    {
      "cell_type": "code",
      "metadata": {
        "colab": {
          "base_uri": "https://localhost:8080/"
        },
        "id": "aq-23Czw4GLI",
        "outputId": "892f18f1-5c13-4656-a888-ec49d5b95b13"
      },
      "source": [
        "max(alkaline_earth_metals)\n"
      ],
      "execution_count": 60,
      "outputs": [
        {
          "output_type": "execute_result",
          "data": {
            "text/plain": [
              "88"
            ]
          },
          "metadata": {},
          "execution_count": 60
        }
      ]
    },
    {
      "cell_type": "code",
      "metadata": {
        "id": "W-HcT3e14Ucc"
      },
      "source": [
        ""
      ],
      "execution_count": null,
      "outputs": []
    },
    {
      "cell_type": "markdown",
      "metadata": {
        "id": "syXKuKMA4U9W"
      },
      "source": [
        "Câu 6"
      ]
    },
    {
      "cell_type": "code",
      "metadata": {
        "id": "oRCfLQS94YQz"
      },
      "source": [
        "temps = [25.2,16.8,31.4,23.9,28,22.5,19.6]\n"
      ],
      "execution_count": 61,
      "outputs": []
    },
    {
      "cell_type": "code",
      "metadata": {
        "colab": {
          "base_uri": "https://localhost:8080/"
        },
        "id": "jKf3Ev4M4jq3",
        "outputId": "ef8ac5f1-bc9e-45f9-ce23-0967c028edcb"
      },
      "source": [
        "temps.sort()\n",
        "temps"
      ],
      "execution_count": 63,
      "outputs": [
        {
          "output_type": "execute_result",
          "data": {
            "text/plain": [
              "[16.8, 19.6, 22.5, 23.9, 25.2, 28, 31.4]"
            ]
          },
          "metadata": {},
          "execution_count": 63
        }
      ]
    },
    {
      "cell_type": "code",
      "metadata": {
        "colab": {
          "base_uri": "https://localhost:8080/"
        },
        "id": "Ozv60O844o4N",
        "outputId": "ec391173-321d-400f-d9ad-f17f61c59945"
      },
      "source": [
        "cool_temps = temps[0:2]\n",
        "cool_temps"
      ],
      "execution_count": 64,
      "outputs": [
        {
          "output_type": "execute_result",
          "data": {
            "text/plain": [
              "[16.8, 19.6]"
            ]
          },
          "metadata": {},
          "execution_count": 64
        }
      ]
    },
    {
      "cell_type": "code",
      "metadata": {
        "colab": {
          "base_uri": "https://localhost:8080/"
        },
        "id": "2Jq1_V894wKE",
        "outputId": "8798d488-69fb-492a-c49b-9d83ebc5edac"
      },
      "source": [
        "warm_temps = temps [2:]\n",
        "warm_temps"
      ],
      "execution_count": 65,
      "outputs": [
        {
          "output_type": "execute_result",
          "data": {
            "text/plain": [
              "[22.5, 23.9, 25.2, 28, 31.4]"
            ]
          },
          "metadata": {},
          "execution_count": 65
        }
      ]
    },
    {
      "cell_type": "code",
      "metadata": {
        "id": "y4tBQnRS42D4"
      },
      "source": [
        ""
      ],
      "execution_count": null,
      "outputs": []
    },
    {
      "cell_type": "markdown",
      "metadata": {
        "id": "WZFcXLY645Le"
      },
      "source": [
        "Câu 7"
      ]
    },
    {
      "cell_type": "code",
      "metadata": {
        "colab": {
          "base_uri": "https://localhost:8080/"
        },
        "id": "B8CMQAbQ46VN",
        "outputId": "8c3a4deb-9df2-4ef6-e46f-79ce46cca640"
      },
      "source": [
        "def same_first_last(L:list) -> bool:\n",
        "      if(len(L) >= 2):\n",
        "        return L[0] == L[-1]\n",
        "\n",
        "print(same_first_last([3, 4, 2, 8, 3]))\n",
        "print(same_first_last(['apple', 'banana', 'pear']))\n",
        "print(same_first_last([4.0, 4.5]))\n",
        "\n"
      ],
      "execution_count": 83,
      "outputs": [
        {
          "output_type": "stream",
          "name": "stdout",
          "text": [
            "True\n",
            "False\n",
            "False\n"
          ]
        }
      ]
    },
    {
      "cell_type": "markdown",
      "metadata": {
        "id": "KssnVlQI7OTV"
      },
      "source": [
        "Câu 8 \n"
      ]
    },
    {
      "cell_type": "code",
      "metadata": {
        "colab": {
          "base_uri": "https://localhost:8080/"
        },
        "id": "zCXqfiKY68Rm",
        "outputId": "09860079-426f-4e76-c12b-a5b8d25e0451"
      },
      "source": [
        "def is_longer(L1: list, L2: list) -> bool:\n",
        "    return len(L1) > len(L2)\n",
        "print( is_longer([1, 2, 3], [4, 5]))\n",
        "print( is_longer(['abcdef'], ['ab', 'cd', 'ef']))\n",
        "print(is_longer(['a', 'b', 'c'], [1, 2, 3]))\n"
      ],
      "execution_count": 84,
      "outputs": [
        {
          "output_type": "stream",
          "name": "stdout",
          "text": [
            "True\n",
            "False\n",
            "False\n"
          ]
        }
      ]
    },
    {
      "cell_type": "code",
      "metadata": {
        "id": "OPjsJLE17voe"
      },
      "source": [
        ""
      ],
      "execution_count": null,
      "outputs": []
    },
    {
      "cell_type": "markdown",
      "metadata": {
        "id": "piqbMc057yF5"
      },
      "source": [
        "Câu 10\n"
      ]
    },
    {
      "cell_type": "code",
      "metadata": {
        "colab": {
          "base_uri": "https://localhost:8080/"
        },
        "id": "kIeznPds7zWP",
        "outputId": "068477d0-2000-4051-a36d-63ff9bd9ace3"
      },
      "source": [
        "units =  [['km', 'miles', 'league'], ['kg', 'pound','stone']]\n",
        "units [0]"
      ],
      "execution_count": 88,
      "outputs": [
        {
          "output_type": "execute_result",
          "data": {
            "text/plain": [
              "['km', 'miles', 'league']"
            ]
          },
          "metadata": {},
          "execution_count": 88
        }
      ]
    },
    {
      "cell_type": "code",
      "metadata": {
        "colab": {
          "base_uri": "https://localhost:8080/"
        },
        "id": "aLFtuclm8Khj",
        "outputId": "3ef14868-6b29-46ec-b62c-3dd5aeb75cff"
      },
      "source": [
        "units[-1]"
      ],
      "execution_count": 89,
      "outputs": [
        {
          "output_type": "execute_result",
          "data": {
            "text/plain": [
              "['kg', 'pound', 'stone']"
            ]
          },
          "metadata": {},
          "execution_count": 89
        }
      ]
    },
    {
      "cell_type": "code",
      "metadata": {
        "colab": {
          "base_uri": "https://localhost:8080/",
          "height": 35
        },
        "id": "jh89e1cQ8OAJ",
        "outputId": "4d8a6306-acc1-432d-ab2e-212d74d4c51c"
      },
      "source": [
        "units[0][0]"
      ],
      "execution_count": 91,
      "outputs": [
        {
          "output_type": "execute_result",
          "data": {
            "application/vnd.google.colaboratory.intrinsic+json": {
              "type": "string"
            },
            "text/plain": [
              "'km'"
            ]
          },
          "metadata": {},
          "execution_count": 91
        }
      ]
    },
    {
      "cell_type": "code",
      "metadata": {
        "colab": {
          "base_uri": "https://localhost:8080/",
          "height": 35
        },
        "id": "-oS1tlFS8SIQ",
        "outputId": "8aa323d9-3bea-4393-d99d-617d678c95b8"
      },
      "source": [
        "units[1][0]\n"
      ],
      "execution_count": 92,
      "outputs": [
        {
          "output_type": "execute_result",
          "data": {
            "application/vnd.google.colaboratory.intrinsic+json": {
              "type": "string"
            },
            "text/plain": [
              "'kg'"
            ]
          },
          "metadata": {},
          "execution_count": 92
        }
      ]
    },
    {
      "cell_type": "code",
      "metadata": {
        "colab": {
          "base_uri": "https://localhost:8080/"
        },
        "id": "_pwieV6O8Uzm",
        "outputId": "7b22cc6b-3d00-45d0-ab05-2608dafcef87"
      },
      "source": [
        "units[0][1:]\n"
      ],
      "execution_count": 94,
      "outputs": [
        {
          "output_type": "execute_result",
          "data": {
            "text/plain": [
              "['miles', 'league']"
            ]
          },
          "metadata": {},
          "execution_count": 94
        }
      ]
    },
    {
      "cell_type": "code",
      "metadata": {
        "colab": {
          "base_uri": "https://localhost:8080/"
        },
        "id": "TuVJrX5h8Z37",
        "outputId": "18df60d1-2f55-4cb5-f7e8-b97e8e393d0c"
      },
      "source": [
        "units[1][0:2]"
      ],
      "execution_count": 96,
      "outputs": [
        {
          "output_type": "execute_result",
          "data": {
            "text/plain": [
              "['kg', 'pound']"
            ]
          },
          "metadata": {},
          "execution_count": 96
        }
      ]
    },
    {
      "cell_type": "code",
      "metadata": {
        "colab": {
          "base_uri": "https://localhost:8080/"
        },
        "id": "JITPmp6Y8eTW",
        "outputId": "798a7d61-415d-4dd6-e827-4d7f287ed6f2"
      },
      "source": [
        "units[1][0:2]"
      ],
      "execution_count": 98,
      "outputs": [
        {
          "output_type": "execute_result",
          "data": {
            "text/plain": [
              "['kg', 'pound']"
            ]
          },
          "metadata": {},
          "execution_count": 98
        }
      ]
    },
    {
      "cell_type": "code",
      "metadata": {
        "id": "YElNVRPe8nz0"
      },
      "source": [
        ""
      ],
      "execution_count": null,
      "outputs": []
    },
    {
      "cell_type": "markdown",
      "metadata": {
        "id": "ANHKGiOF8oLI"
      },
      "source": [
        "Câu 11\n"
      ]
    },
    {
      "cell_type": "code",
      "metadata": {
        "colab": {
          "base_uri": "https://localhost:8080/"
        },
        "id": "B-EpYfd18pHm",
        "outputId": "7f12ef87-ba7f-470d-d11f-f60534696a65"
      },
      "source": [
        "units [-2]\n"
      ],
      "execution_count": 100,
      "outputs": [
        {
          "output_type": "execute_result",
          "data": {
            "text/plain": [
              "['km', 'miles', 'league']"
            ]
          },
          "metadata": {},
          "execution_count": 100
        }
      ]
    },
    {
      "cell_type": "code",
      "metadata": {
        "colab": {
          "base_uri": "https://localhost:8080/"
        },
        "id": "mFlgcalh8r_t",
        "outputId": "35574127-f1df-494a-ba9b-867d932db028"
      },
      "source": [
        "units[-1]"
      ],
      "execution_count": 101,
      "outputs": [
        {
          "output_type": "execute_result",
          "data": {
            "text/plain": [
              "['kg', 'pound', 'stone']"
            ]
          },
          "metadata": {},
          "execution_count": 101
        }
      ]
    },
    {
      "cell_type": "code",
      "metadata": {
        "colab": {
          "base_uri": "https://localhost:8080/",
          "height": 35
        },
        "id": "hBPIuybT8utq",
        "outputId": "dbf6f554-0948-4969-831d-3b51a2892902"
      },
      "source": [
        "units[-2][-3]"
      ],
      "execution_count": 102,
      "outputs": [
        {
          "output_type": "execute_result",
          "data": {
            "application/vnd.google.colaboratory.intrinsic+json": {
              "type": "string"
            },
            "text/plain": [
              "'km'"
            ]
          },
          "metadata": {},
          "execution_count": 102
        }
      ]
    },
    {
      "cell_type": "code",
      "metadata": {
        "colab": {
          "base_uri": "https://localhost:8080/",
          "height": 35
        },
        "id": "0-V8FwyE8x7U",
        "outputId": "ab20b2b5-76ce-4ba5-ccb6-42b27c28ba93"
      },
      "source": [
        "units[-1][-3]\n"
      ],
      "execution_count": 104,
      "outputs": [
        {
          "output_type": "execute_result",
          "data": {
            "application/vnd.google.colaboratory.intrinsic+json": {
              "type": "string"
            },
            "text/plain": [
              "'kg'"
            ]
          },
          "metadata": {},
          "execution_count": 104
        }
      ]
    },
    {
      "cell_type": "code",
      "metadata": {
        "colab": {
          "base_uri": "https://localhost:8080/"
        },
        "id": "5UHRXzUu82Ul",
        "outputId": "651a5016-ef9a-4402-90ae-427624a9608f"
      },
      "source": [
        "units[-2][-2:]"
      ],
      "execution_count": 105,
      "outputs": [
        {
          "output_type": "execute_result",
          "data": {
            "text/plain": [
              "['miles', 'league']"
            ]
          },
          "metadata": {},
          "execution_count": 105
        }
      ]
    },
    {
      "cell_type": "code",
      "metadata": {
        "colab": {
          "base_uri": "https://localhost:8080/"
        },
        "id": "_HGIu-l3852Z",
        "outputId": "a0acbc63-2d2b-4793-b715-2b8e46b0da12"
      },
      "source": [
        "units[-1][:-1]\n"
      ],
      "execution_count": 107,
      "outputs": [
        {
          "output_type": "execute_result",
          "data": {
            "text/plain": [
              "['kg', 'pound']"
            ]
          },
          "metadata": {},
          "execution_count": 107
        }
      ]
    },
    {
      "cell_type": "code",
      "metadata": {
        "id": "hl5c20SH9tDJ"
      },
      "source": [
        ""
      ],
      "execution_count": null,
      "outputs": []
    },
    {
      "cell_type": "markdown",
      "metadata": {
        "id": "C95jYkDJ9t07"
      },
      "source": [
        "Chương 9 \n"
      ]
    },
    {
      "cell_type": "markdown",
      "metadata": {
        "id": "areJBrcf_RsZ"
      },
      "source": [
        "Câu 1"
      ]
    },
    {
      "cell_type": "code",
      "metadata": {
        "colab": {
          "base_uri": "https://localhost:8080/"
        },
        "id": "luCu7ry69vIX",
        "outputId": "36e635dd-9224-4282-c736-78c23b7a2104"
      },
      "source": [
        "celegans_phenotypes = ['Emb','Him', 'Unc', 'Lon', 'Dpy','Sma']\n",
        "for phenotype in celegans_phenotypes:\n",
        "  print(phenotype)"
      ],
      "execution_count": 109,
      "outputs": [
        {
          "output_type": "stream",
          "name": "stdout",
          "text": [
            "Emb\n",
            "Him\n",
            "Unc\n",
            "Lon\n",
            "Dpy\n",
            "Sma\n"
          ]
        }
      ]
    },
    {
      "cell_type": "markdown",
      "metadata": {
        "id": "iJdMrVnF_VQ_"
      },
      "source": [
        "Câu 2"
      ]
    },
    {
      "cell_type": "code",
      "metadata": {
        "colab": {
          "base_uri": "https://localhost:8080/"
        },
        "id": "s7yEVyRD_N5z",
        "outputId": "e7555f99-1a7a-4e03-8e4f-65378a822b05"
      },
      "source": [
        "half_lives = [87.74,24110.0,6537.0,14.4,3760000.0]\n",
        "for value in half_lives:\n",
        "  print(value,end='')\n",
        "  "
      ],
      "execution_count": 110,
      "outputs": [
        {
          "output_type": "stream",
          "name": "stdout",
          "text": [
            "87.7424110.06537.014.43760000.0"
          ]
        }
      ]
    },
    {
      "cell_type": "markdown",
      "metadata": {
        "id": "hjRLJQ6I_61O"
      },
      "source": [
        "Câu 3\n"
      ]
    },
    {
      "cell_type": "code",
      "metadata": {
        "colab": {
          "base_uri": "https://localhost:8080/"
        },
        "id": "mc4QKDoP_78m",
        "outputId": "10a571d7-9b3e-420e-d528-da9095748f57"
      },
      "source": [
        "whales = [5,4,7,3,2,3,2,2,6,4,2,1,7,1,3 ]\n",
        "more_whales = []\n",
        "for count in whales:\n",
        "  more_whales.append(count + 1)\n",
        "more_whales"
      ],
      "execution_count": 111,
      "outputs": [
        {
          "output_type": "execute_result",
          "data": {
            "text/plain": [
              "[6, 5, 8, 4, 3, 4, 3, 3, 7, 5, 3, 2, 8, 2, 4]"
            ]
          },
          "metadata": {},
          "execution_count": 111
        }
      ]
    },
    {
      "cell_type": "markdown",
      "metadata": {
        "id": "lGsMUOBVAXXi"
      },
      "source": [
        "Câu 4\n"
      ]
    },
    {
      "cell_type": "code",
      "metadata": {
        "colab": {
          "base_uri": "https://localhost:8080/"
        },
        "id": "HTdkHr3fAZm2",
        "outputId": "cbd55252-0827-4f0e-eb63-1e1c76b2d9c9"
      },
      "source": [
        "alkaline_earth_metals = [[4, 9.012], [12, 24.305],[20, 40.078], [38, 87.62],[56, 137.327], [88, 226]]\n",
        "for inner_list in alkaline_earth_metals:\n",
        "  print(inner_list[0])\n",
        "  print(inner_list[1])"
      ],
      "execution_count": 113,
      "outputs": [
        {
          "output_type": "stream",
          "name": "stdout",
          "text": [
            "4\n",
            "9.012\n",
            "12\n",
            "24.305\n",
            "20\n",
            "40.078\n",
            "38\n",
            "87.62\n",
            "56\n",
            "137.327\n",
            "88\n",
            "226\n"
          ]
        }
      ]
    },
    {
      "cell_type": "code",
      "metadata": {
        "id": "jWsFxMyjA_jM"
      },
      "source": [
        "number_and_weight = []\n",
        "for inner_list in alkaline_earth_metals:\n",
        "  number_and_weight.append(inner_list[0])\n",
        "  number_and_weight.append(inner_list[1])"
      ],
      "execution_count": 118,
      "outputs": []
    },
    {
      "cell_type": "markdown",
      "metadata": {
        "id": "1pbQHlA0CJ4Y"
      },
      "source": [
        "Câu 6\n"
      ]
    },
    {
      "cell_type": "code",
      "metadata": {
        "id": "gcPXQConCLYy"
      },
      "source": [
        "text = \"\"\n",
        "while text.lower() != \"quit\":\n",
        "  text = input(\"Please enter a chemical formula (or 'quit' to exit): \")\n",
        "if text == \"quit\":\n",
        "  print(\"...exiting program\")\n",
        "elif text == \"H2O\":\n",
        "  print(\"Water\")\n",
        "elif text == \"NH3\":\n",
        "  print(\"Ammonia\")\n",
        "elif text == \"CH4\":\n",
        "  print(\"Methane\")\n",
        "else:\n",
        "  print(\"Unknown compound\")"
      ],
      "execution_count": null,
      "outputs": []
    },
    {
      "cell_type": "code",
      "metadata": {
        "id": "S5cbwCEhG_6e"
      },
      "source": [
        ""
      ],
      "execution_count": null,
      "outputs": []
    }
  ]
}